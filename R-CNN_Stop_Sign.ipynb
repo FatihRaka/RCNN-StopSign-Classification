{
 "cells": [
  {
   "cell_type": "code",
   "execution_count": null,
   "metadata": {},
   "outputs": [],
   "source": [
    "FATIH RAKA KSATRIA\n",
    "\n",
    "215150300111011\n",
    "\n",
    "COMPUTER VISION - B"
   ]
  },
  {
   "cell_type": "code",
   "execution_count": null,
   "metadata": {},
   "outputs": [],
   "source": [
    "!unzip Images.zip"
   ]
  },
  {
   "cell_type": "code",
   "execution_count": null,
   "metadata": {},
   "outputs": [],
   "source": [
    "!unzip \"C:\\Users\\fatih\\Downloads\\Airplanes_Annotations.zip\""
   ]
  },
  {
   "cell_type": "code",
   "execution_count": null,
   "metadata": {
    "editable": true,
    "slideshow": {
     "slide_type": ""
    },
    "tags": []
   },
   "outputs": [],
   "source": [
    "pip install tensorflow\n"
   ]
  },
  {
   "cell_type": "code",
   "execution_count": 8,
   "metadata": {
    "editable": true,
    "slideshow": {
     "slide_type": ""
    },
    "tags": []
   },
   "outputs": [],
   "source": [
    "import os,cv2,keras\n",
    "import pandas as pd\n",
    "import matplotlib.pyplot as plt\n",
    "import numpy as np\n",
    "import tensorflow as tf"
   ]
  },
  {
   "cell_type": "code",
   "execution_count": 9,
   "metadata": {},
   "outputs": [],
   "source": [
    "path = \"stop_sign\"\n",
    "annot = \"stop_sign_annotations_converted\""
   ]
  },
  {
   "cell_type": "code",
   "execution_count": null,
   "metadata": {
    "editable": true,
    "scrolled": true,
    "slideshow": {
     "slide_type": ""
    },
    "tags": []
   },
   "outputs": [],
   "source": [
    "import os\n",
    "import cv2\n",
    "import pandas as pd\n",
    "import matplotlib.pyplot as plt\n",
    "\n",
    "# Path folder gambar dan file anotasi\n",
    "path = \"stop_sign\"\n",
    "annotation_file = \"stop_sign_annotations_converted.txt\"\n",
    "\n",
    "# Membaca file anotasi\n",
    "df = pd.read_csv(annotation_file, sep=\",\", header=None, names=[\"annotation_file\", \"bbox\"])\n",
    "\n",
    "# Memisahkan bounding box menjadi kolom terpisah\n",
    "df[['x1', 'y1', 'x2', 'y2']] = df['bbox'].str.split(expand=True).astype(int)\n",
    "\n",
    "# Loop melalui setiap gambar dan anotasinya\n",
    "for index, row in df.iterrows():\n",
    "    # Membentuk nama file gambar berdasarkan nomor pada nama file anotasi\n",
    "    image_number = row['annotation_file'].split(\"_\")[1].split(\".\")[0]\n",
    "    filename = f\"image_{image_number.zfill(4)}.jpg\"  # Menghasilkan format image_0001.jpg, image_0002.jpg, dst.\n",
    "    \n",
    "    # Membaca gambar\n",
    "    img = cv2.imread(os.path.join(path, filename))\n",
    "    \n",
    "    # Cek apakah gambar berhasil dibaca\n",
    "    if img is not None:\n",
    "        # Plot gambar\n",
    "        plt.imshow(cv2.cvtColor(img, cv2.COLOR_BGR2RGB))\n",
    "        \n",
    "        # Menambahkan bounding box yang terkait dengan gambar ini\n",
    "        x1, y1, x2, y2 = row['x1'], row['y1'], row['x2'], row['y2']\n",
    "        cv2.rectangle(img, (x1, y1), (x2, y2), (255, 0, 0), 2)\n",
    "        \n",
    "        # Tampilkan gambar dengan bounding box\n",
    "        plt.figure()\n",
    "        plt.imshow(cv2.cvtColor(img, cv2.COLOR_BGR2RGB))\n",
    "        plt.title(filename)  # Tambahkan judul gambar untuk referensi\n",
    "        plt.axis('off')  # Matikan sumbu untuk tampilan yang lebih baik\n",
    "        plt.show()\n",
    "    else:\n",
    "        print(f\"Could not read image {filename}. Check if the file exists and path is correct.\")\n"
   ]
  },
  {
   "cell_type": "code",
   "execution_count": 13,
   "metadata": {},
   "outputs": [],
   "source": [
    "cv2.setUseOptimized(True);\n",
    "ss = cv2.ximgproc.segmentation.createSelectiveSearchSegmentation()"
   ]
  },
  {
   "cell_type": "code",
   "execution_count": null,
   "metadata": {
    "editable": true,
    "slideshow": {
     "slide_type": ""
    },
    "tags": []
   },
   "outputs": [],
   "source": [
    "pip install --user opencv-contrib-python\n"
   ]
  },
  {
   "cell_type": "code",
   "execution_count": null,
   "metadata": {
    "editable": true,
    "slideshow": {
     "slide_type": ""
    },
    "tags": []
   },
   "outputs": [],
   "source": [
    "im = cv2.imread(os.path.join(path,\"image_0025.jpg\"))\n",
    "ss.setBaseImage(im)\n",
    "ss.switchToSelectiveSearchFast()\n",
    "rects = ss.process()\n",
    "imOut = im.copy()\n",
    "for i, rect in (enumerate(rects)):\n",
    "    x, y, w, h = rect\n",
    "#     print(x,y,w,h)\n",
    "#     imOut = imOut[x:x+w,y:y+h]\n",
    "    cv2.rectangle(imOut, (x, y), (x+w, y+h), (0, 255, 0), 1, cv2.LINE_AA)\n",
    "# plt.figure()\n",
    "plt.imshow(imOut)"
   ]
  },
  {
   "cell_type": "code",
   "execution_count": 18,
   "metadata": {},
   "outputs": [],
   "source": [
    "train_images=[]\n",
    "train_labels=[]"
   ]
  },
  {
   "cell_type": "code",
   "execution_count": 20,
   "metadata": {},
   "outputs": [],
   "source": [
    "def get_iou(bb1, bb2):\n",
    "    assert bb1['x1'] < bb1['x2']\n",
    "    assert bb1['y1'] < bb1['y2']\n",
    "    assert bb2['x1'] < bb2['x2']\n",
    "    assert bb2['y1'] < bb2['y2']\n",
    "\n",
    "    x_left = max(bb1['x1'], bb2['x1'])\n",
    "    y_top = max(bb1['y1'], bb2['y1'])\n",
    "    x_right = min(bb1['x2'], bb2['x2'])\n",
    "    y_bottom = min(bb1['y2'], bb2['y2'])\n",
    "\n",
    "    if x_right < x_left or y_bottom < y_top:\n",
    "        return 0.0\n",
    "\n",
    "    intersection_area = (x_right - x_left) * (y_bottom - y_top)\n",
    "\n",
    "    bb1_area = (bb1['x2'] - bb1['x1']) * (bb1['y2'] - bb1['y1'])\n",
    "    bb2_area = (bb2['x2'] - bb2['x1']) * (bb2['y2'] - bb2['y1'])\n",
    "\n",
    "    iou = intersection_area / float(bb1_area + bb2_area - intersection_area)\n",
    "    assert iou >= 0.0\n",
    "    assert iou <= 1.0\n",
    "    return iou"
   ]
  },
  {
   "cell_type": "code",
   "execution_count": 22,
   "metadata": {},
   "outputs": [],
   "source": [
    "ss = cv2.ximgproc.segmentation.createSelectiveSearchSegmentation()"
   ]
  },
  {
   "cell_type": "code",
   "execution_count": null,
   "metadata": {
    "editable": true,
    "scrolled": true,
    "slideshow": {
     "slide_type": ""
    },
    "tags": []
   },
   "outputs": [],
   "source": [
    "for e, row in df.iterrows():\n",
    "    annotation_filename = row['annotation_file']\n",
    "    # Dapatkan nama gambar yang sesuai\n",
    "    image_number = annotation_filename.split(\"_\")[1].split(\".\")[0]\n",
    "    filename = f\"image_{image_number.zfill(4)}.jpg\"\n",
    "\n",
    "    image = cv2.imread(os.path.join(path, filename))\n",
    "\n",
    "    if image is None:\n",
    "        print(f\"Gambar {filename} tidak dapat dibaca. Periksa format atau path.\")\n",
    "        continue\n",
    "\n",
    "    gtvalues = [{\"x1\": row['x1'], \"y1\": row['y1'], \"x2\": row['x2'], \"y2\": row['y2']}]\n",
    "\n",
    "    ss.setBaseImage(image)\n",
    "    ss.switchToSelectiveSearchFast()\n",
    "    ssresults = ss.process()\n",
    "    imout = image.copy()\n",
    "    counter = 0\n",
    "    falsecounter = 0\n",
    "    flag = 0\n",
    "    \n",
    "    for e, result in enumerate(ssresults):\n",
    "        if e < 2000 and flag == 0:\n",
    "            for gtval in gtvalues:\n",
    "                x, y, w, h = result\n",
    "                iou = get_iou(gtval, {\"x1\": x, \"x2\": x+w, \"y1\": y, \"y2\": y+h})\n",
    "                print(f\"IOU: {iou}, Counter: {counter}, False Counter: {falsecounter}\")\n",
    "                if counter < 30:\n",
    "                    if iou > 0.70:\n",
    "                        timage = imout[y:y+h, x:x+w]\n",
    "                        resized = cv2.resize(timage, (224, 224), interpolation=cv2.INTER_AREA)\n",
    "                        train_images.append(resized)\n",
    "                        train_labels.append(1)\n",
    "                        counter += 1\n",
    "                if falsecounter < 30:\n",
    "                    if iou < 0.3:\n",
    "                        timage = imout[y:y+h, x:x+w]\n",
    "                        resized = cv2.resize(timage, (224, 224), interpolation=cv2.INTER_AREA)\n",
    "                        train_images.append(resized)\n",
    "                        train_labels.append(0)\n",
    "                        falsecounter += 1\n",
    "\n",
    "                # Menghentikan pencarian jika batas tercapai\n",
    "                if counter >= 30 and falsecounter >= 30:\n",
    "                    print(\"Menghentikan pencarian karena batas tercapai.\")\n",
    "                    flag = 1  # Menghentikan pencarian\n",
    "\n"
   ]
  },
  {
   "cell_type": "code",
   "execution_count": 25,
   "metadata": {},
   "outputs": [],
   "source": [
    "X_new = np.array(train_images)\n",
    "y_new = np.array(train_labels)"
   ]
  },
  {
   "cell_type": "code",
   "execution_count": null,
   "metadata": {},
   "outputs": [],
   "source": [
    "X_new.shape"
   ]
  },
  {
   "cell_type": "code",
   "execution_count": null,
   "metadata": {
    "editable": true,
    "slideshow": {
     "slide_type": ""
    },
    "tags": []
   },
   "outputs": [],
   "source": [
    "pip install --upgrade tensorflow keras\n"
   ]
  },
  {
   "cell_type": "code",
   "execution_count": 30,
   "metadata": {
    "editable": true,
    "scrolled": true,
    "slideshow": {
     "slide_type": ""
    },
    "tags": []
   },
   "outputs": [],
   "source": [
    "from tensorflow.keras.layers import Dense\n",
    "from tensorflow.keras import Model\n",
    "from tensorflow.keras import optimizers\n",
    "from tensorflow.keras.preprocessing.image import ImageDataGenerator\n",
    "from tensorflow.keras.optimizers import Adam"
   ]
  },
  {
   "cell_type": "code",
   "execution_count": 32,
   "metadata": {
    "editable": true,
    "slideshow": {
     "slide_type": ""
    },
    "tags": []
   },
   "outputs": [],
   "source": [
    "from tensorflow.keras.applications.vgg16 import VGG16\n",
    "\n",
    "# Cek jika model sudah ada di local\n",
    "try:\n",
    "    vggmodel = VGG16(weights='imagenet', include_top=True)\n",
    "except Exception as e:\n",
    "    print(f\"Error loading model: {e}\")"
   ]
  },
  {
   "cell_type": "code",
   "execution_count": null,
   "metadata": {
    "editable": true,
    "slideshow": {
     "slide_type": ""
    },
    "tags": []
   },
   "outputs": [],
   "source": [
    "vggmodel.summary()"
   ]
  },
  {
   "cell_type": "code",
   "execution_count": null,
   "metadata": {},
   "outputs": [],
   "source": [
    "for layers in (vggmodel.layers)[:15]:\n",
    "    print(layers)\n",
    "    layers.trainable = False"
   ]
  },
  {
   "cell_type": "code",
   "execution_count": 50,
   "metadata": {},
   "outputs": [],
   "source": [
    "X= vggmodel.layers[-2].output"
   ]
  },
  {
   "cell_type": "code",
   "execution_count": 52,
   "metadata": {},
   "outputs": [],
   "source": [
    "predictions = Dense(2, activation=\"softmax\")(X)"
   ]
  },
  {
   "cell_type": "code",
   "execution_count": 53,
   "metadata": {},
   "outputs": [],
   "source": [
    "model_final = Model(inputs=vggmodel.input, outputs=predictions)\n"
   ]
  },
  {
   "cell_type": "code",
   "execution_count": 54,
   "metadata": {},
   "outputs": [],
   "source": [
    "from keras.optimizers import Adam\n",
    "\n",
    "# Menggunakan argumen learning_rate\n",
    "opt = Adam(learning_rate=0.0001)\n"
   ]
  },
  {
   "cell_type": "code",
   "execution_count": 55,
   "metadata": {
    "editable": true,
    "slideshow": {
     "slide_type": ""
    },
    "tags": []
   },
   "outputs": [],
   "source": [
    "model_final.compile(loss = keras.losses.categorical_crossentropy, optimizer = opt, metrics=[\"accuracy\"])"
   ]
  },
  {
   "cell_type": "code",
   "execution_count": null,
   "metadata": {},
   "outputs": [],
   "source": [
    "model_final.summary()"
   ]
  },
  {
   "cell_type": "code",
   "execution_count": 61,
   "metadata": {
    "editable": true,
    "slideshow": {
     "slide_type": ""
    },
    "tags": []
   },
   "outputs": [],
   "source": [
    "from sklearn.model_selection import train_test_split\n",
    "from sklearn.preprocessing import LabelBinarizer"
   ]
  },
  {
   "cell_type": "code",
   "execution_count": 62,
   "metadata": {},
   "outputs": [],
   "source": [
    "class MyLabelBinarizer(LabelBinarizer):\n",
    "    def transform(self, y):\n",
    "        Y = super().transform(y)\n",
    "        if self.y_type_ == 'binary':\n",
    "            return np.hstack((Y, 1-Y))\n",
    "        else:\n",
    "            return Y\n",
    "    def inverse_transform(self, Y, threshold=None):\n",
    "        if self.y_type_ == 'binary':\n",
    "            return super().inverse_transform(Y[:, 0], threshold)\n",
    "        else:\n",
    "            return super().inverse_transform(Y, threshold)"
   ]
  },
  {
   "cell_type": "code",
   "execution_count": 63,
   "metadata": {},
   "outputs": [],
   "source": [
    "lenc = MyLabelBinarizer()\n",
    "Y =  lenc.fit_transform(y_new)"
   ]
  },
  {
   "cell_type": "code",
   "execution_count": 64,
   "metadata": {},
   "outputs": [],
   "source": [
    "X_train, X_test , y_train, y_test = train_test_split(X_new,Y,test_size=0.10)"
   ]
  },
  {
   "cell_type": "code",
   "execution_count": null,
   "metadata": {},
   "outputs": [],
   "source": [
    "print(X_train.shape,X_test.shape,y_train.shape,y_test.shape)"
   ]
  },
  {
   "cell_type": "code",
   "execution_count": 72,
   "metadata": {},
   "outputs": [],
   "source": [
    "trdata = ImageDataGenerator(horizontal_flip=True, vertical_flip=True, rotation_range=90)\n",
    "traindata = trdata.flow(x=X_train, y=y_train)\n",
    "tsdata = ImageDataGenerator(horizontal_flip=True, vertical_flip=True, rotation_range=90)\n",
    "testdata = tsdata.flow(x=X_test, y=y_test)"
   ]
  },
  {
   "cell_type": "code",
   "execution_count": 96,
   "metadata": {},
   "outputs": [],
   "source": [
    "from keras.callbacks import ModelCheckpoint, EarlyStopping"
   ]
  },
  {
   "cell_type": "code",
   "execution_count": 74,
   "metadata": {
    "editable": true,
    "slideshow": {
     "slide_type": ""
    },
    "tags": []
   },
   "outputs": [],
   "source": [
    "from keras.callbacks import ModelCheckpoint, EarlyStopping\n",
    "\n",
    "# Menggunakan save_freq sebagai pengganti period\n",
    "checkpoint = ModelCheckpoint(\"ieeercnn_vgg16_1.keras\", monitor='val_loss', verbose=1, \n",
    "                             save_best_only=True, save_weights_only=False, \n",
    "                             mode='auto', save_freq='epoch')\n",
    "\n",
    "# Menginisialisasi EarlyStopping\n",
    "early = EarlyStopping(monitor='val_loss', min_delta=0, patience=10, verbose=1, mode='auto')\n"
   ]
  },
  {
   "cell_type": "code",
   "execution_count": null,
   "metadata": {},
   "outputs": [],
   "source": [
    "# Memastikan bahwa generator `traindata` dan `testdata` sudah kompatibel\n",
    "hist = model_final.fit(\n",
    "    traindata,\n",
    "    steps_per_epoch=10,\n",
    "    epochs=100,\n",
    "    validation_data=testdata,\n",
    "    validation_steps=2,\n",
    "    callbacks=[checkpoint, early],\n",
    "    verbose=1  # Memastikan tampilan log training\n",
    ")"
   ]
  },
  {
   "cell_type": "code",
   "execution_count": null,
   "metadata": {},
   "outputs": [],
   "source": [
    "import matplotlib.pyplot as plt\n",
    "# plt.plot(hist.history[\"acc\"])\n",
    "# plt.plot(hist.history['val_acc'])\n",
    "plt.plot(hist.history['loss'])\n",
    "plt.plot(hist.history['val_loss'])\n",
    "plt.title(\"model loss\")\n",
    "plt.ylabel(\"Loss\")\n",
    "plt.xlabel(\"Epoch\")\n",
    "plt.legend([\"Loss\",\"Validation Loss\"])\n",
    "plt.show()\n",
    "plt.savefig('chart loss.png')"
   ]
  },
  {
   "cell_type": "code",
   "execution_count": null,
   "metadata": {},
   "outputs": [],
   "source": [
    "im = X_test[100]\n",
    "plt.imshow(im)\n",
    "img = np.expand_dims(im, axis=0)\n",
    "out= model_final.predict(img)\n",
    "if out[0][0] > out[0][1]:\n",
    "    print(\"sign\")\n",
    "else:\n",
    "    print(\"not sign\")"
   ]
  },
  {
   "cell_type": "code",
   "execution_count": null,
   "metadata": {},
   "outputs": [],
   "source": [
    "import os\n",
    "import cv2\n",
    "import numpy as np\n",
    "import matplotlib.pyplot as plt\n",
    "\n",
    "# Inisialisasi selective search\n",
    "ss = cv2.ximgproc.segmentation.createSelectiveSearchSegmentation()\n",
    "\n",
    "z = 0\n",
    "path = 'stop_sign'  # Ganti dengan path ke folder gambar Anda\n",
    "for e, i in enumerate(os.listdir(path)):\n",
    "    if i.startswith(\"image_006\"):  # Misalnya memproses gambar yang namanya diawali '4'\n",
    "        z += 1\n",
    "        img = cv2.imread(os.path.join(path, i))\n",
    "        ss.setBaseImage(img)\n",
    "        ss.switchToSelectiveSearchFast()\n",
    "        ssresults = ss.process()\n",
    "        imout = img.copy()\n",
    "        \n",
    "        for e, result in enumerate(ssresults):\n",
    "            if e < 20:\n",
    "                x, y, w, h = result\n",
    "                # Print for debugging\n",
    "                print(f\"Processing proposal {e + 1}: x={x}, y={y}, w={w}, h={h}\")\n",
    "                \n",
    "                timage = imout[y:y + h, x:x + w]\n",
    "                resized = cv2.resize(timage, (224, 224), interpolation=cv2.INTER_AREA)\n",
    "                img = np.expand_dims(resized, axis=0)\n",
    "                \n",
    "                out = model_final.predict(img)\n",
    "                print(f\"Prediction output for proposal {e + 1}: {out}\")  # Output prediksi untuk setiap proposal\n",
    "                \n",
    "                if out[0][0] > 0.65:\n",
    "                    cv2.rectangle(imout, (x, y), (x + w, y + h), (0, 255, 0), 1, cv2.LINE_AA)\n",
    "\n",
    "        # Menampilkan gambar hasil dengan bounding box\n",
    "        plt.figure()  # Membuat figure baru untuk setiap gambar\n",
    "        plt.imshow(cv2.cvtColor(imout, cv2.COLOR_BGR2RGB))  # Konversi BGR ke RGB\n",
    "        plt.title(f\"Image {i} with Predictions\")  # Menambahkan judul\n",
    "        plt.axis('off')  # Menyembunyikan axis\n",
    "        plt.show()  # Menampilkan gambar\n"
   ]
  },
  {
   "cell_type": "code",
   "execution_count": null,
   "metadata": {},
   "outputs": [],
   "source": []
  },
  {
   "cell_type": "code",
   "execution_count": null,
   "metadata": {},
   "outputs": [],
   "source": []
  }
 ],
 "metadata": {
  "kernelspec": {
   "display_name": "Python 3 (ipykernel)",
   "language": "python",
   "name": "python3"
  },
  "language_info": {
   "codemirror_mode": {
    "name": "ipython",
    "version": 3
   },
   "file_extension": ".py",
   "mimetype": "text/x-python",
   "name": "python",
   "nbconvert_exporter": "python",
   "pygments_lexer": "ipython3",
   "version": "3.12.7"
  }
 },
 "nbformat": 4,
 "nbformat_minor": 4
}
